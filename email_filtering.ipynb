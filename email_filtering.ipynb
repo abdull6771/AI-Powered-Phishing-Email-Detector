{
  "nbformat": 4,
  "nbformat_minor": 0,
  "metadata": {
    "colab": {
      "provenance": [],
      "gpuType": "T4"
    },
    "kernelspec": {
      "name": "python3",
      "display_name": "Python 3"
    },
    "language_info": {
      "name": "python"
    },
    "accelerator": "GPU",
    "widgets": {
      "application/vnd.jupyter.widget-state+json": {
        "169c7aa4eef54efb9cbe0634f0882c0b": {
          "model_module": "@jupyter-widgets/controls",
          "model_name": "HBoxModel",
          "model_module_version": "1.5.0",
          "state": {
            "_dom_classes": [],
            "_model_module": "@jupyter-widgets/controls",
            "_model_module_version": "1.5.0",
            "_model_name": "HBoxModel",
            "_view_count": null,
            "_view_module": "@jupyter-widgets/controls",
            "_view_module_version": "1.5.0",
            "_view_name": "HBoxView",
            "box_style": "",
            "children": [
              "IPY_MODEL_e2c19dae6afe451aad399769713d88bd",
              "IPY_MODEL_1dd358dc943e4fae871bf8ddb9e06e44",
              "IPY_MODEL_869bdb6840864d8db19d6f857a6e64bd"
            ],
            "layout": "IPY_MODEL_9e0b18d593324a2d97a6dfd2f1dab949"
          }
        },
        "e2c19dae6afe451aad399769713d88bd": {
          "model_module": "@jupyter-widgets/controls",
          "model_name": "HTMLModel",
          "model_module_version": "1.5.0",
          "state": {
            "_dom_classes": [],
            "_model_module": "@jupyter-widgets/controls",
            "_model_module_version": "1.5.0",
            "_model_name": "HTMLModel",
            "_view_count": null,
            "_view_module": "@jupyter-widgets/controls",
            "_view_module_version": "1.5.0",
            "_view_name": "HTMLView",
            "description": "",
            "description_tooltip": null,
            "layout": "IPY_MODEL_19f63aa13cc04d1688f5a239b72d1120",
            "placeholder": "​",
            "style": "IPY_MODEL_518b6a404111406b8b5c19d7300328e9",
            "value": "README.md: 100%"
          }
        },
        "1dd358dc943e4fae871bf8ddb9e06e44": {
          "model_module": "@jupyter-widgets/controls",
          "model_name": "FloatProgressModel",
          "model_module_version": "1.5.0",
          "state": {
            "_dom_classes": [],
            "_model_module": "@jupyter-widgets/controls",
            "_model_module_version": "1.5.0",
            "_model_name": "FloatProgressModel",
            "_view_count": null,
            "_view_module": "@jupyter-widgets/controls",
            "_view_module_version": "1.5.0",
            "_view_name": "ProgressView",
            "bar_style": "success",
            "description": "",
            "description_tooltip": null,
            "layout": "IPY_MODEL_6907b409203847fb95e85685860355a9",
            "max": 616,
            "min": 0,
            "orientation": "horizontal",
            "style": "IPY_MODEL_fb29e563adb74bcc989877066f51df58",
            "value": 616
          }
        },
        "869bdb6840864d8db19d6f857a6e64bd": {
          "model_module": "@jupyter-widgets/controls",
          "model_name": "HTMLModel",
          "model_module_version": "1.5.0",
          "state": {
            "_dom_classes": [],
            "_model_module": "@jupyter-widgets/controls",
            "_model_module_version": "1.5.0",
            "_model_name": "HTMLModel",
            "_view_count": null,
            "_view_module": "@jupyter-widgets/controls",
            "_view_module_version": "1.5.0",
            "_view_name": "HTMLView",
            "description": "",
            "description_tooltip": null,
            "layout": "IPY_MODEL_4134c46ad0074ecf9bb3cb36f21c8ca9",
            "placeholder": "​",
            "style": "IPY_MODEL_c79d3cfa219a4a03be1274028b72bc82",
            "value": " 616/616 [00:00&lt;00:00, 69.5kB/s]"
          }
        },
        "9e0b18d593324a2d97a6dfd2f1dab949": {
          "model_module": "@jupyter-widgets/base",
          "model_name": "LayoutModel",
          "model_module_version": "1.2.0",
          "state": {
            "_model_module": "@jupyter-widgets/base",
            "_model_module_version": "1.2.0",
            "_model_name": "LayoutModel",
            "_view_count": null,
            "_view_module": "@jupyter-widgets/base",
            "_view_module_version": "1.2.0",
            "_view_name": "LayoutView",
            "align_content": null,
            "align_items": null,
            "align_self": null,
            "border": null,
            "bottom": null,
            "display": null,
            "flex": null,
            "flex_flow": null,
            "grid_area": null,
            "grid_auto_columns": null,
            "grid_auto_flow": null,
            "grid_auto_rows": null,
            "grid_column": null,
            "grid_gap": null,
            "grid_row": null,
            "grid_template_areas": null,
            "grid_template_columns": null,
            "grid_template_rows": null,
            "height": null,
            "justify_content": null,
            "justify_items": null,
            "left": null,
            "margin": null,
            "max_height": null,
            "max_width": null,
            "min_height": null,
            "min_width": null,
            "object_fit": null,
            "object_position": null,
            "order": null,
            "overflow": null,
            "overflow_x": null,
            "overflow_y": null,
            "padding": null,
            "right": null,
            "top": null,
            "visibility": null,
            "width": null
          }
        },
        "19f63aa13cc04d1688f5a239b72d1120": {
          "model_module": "@jupyter-widgets/base",
          "model_name": "LayoutModel",
          "model_module_version": "1.2.0",
          "state": {
            "_model_module": "@jupyter-widgets/base",
            "_model_module_version": "1.2.0",
            "_model_name": "LayoutModel",
            "_view_count": null,
            "_view_module": "@jupyter-widgets/base",
            "_view_module_version": "1.2.0",
            "_view_name": "LayoutView",
            "align_content": null,
            "align_items": null,
            "align_self": null,
            "border": null,
            "bottom": null,
            "display": null,
            "flex": null,
            "flex_flow": null,
            "grid_area": null,
            "grid_auto_columns": null,
            "grid_auto_flow": null,
            "grid_auto_rows": null,
            "grid_column": null,
            "grid_gap": null,
            "grid_row": null,
            "grid_template_areas": null,
            "grid_template_columns": null,
            "grid_template_rows": null,
            "height": null,
            "justify_content": null,
            "justify_items": null,
            "left": null,
            "margin": null,
            "max_height": null,
            "max_width": null,
            "min_height": null,
            "min_width": null,
            "object_fit": null,
            "object_position": null,
            "order": null,
            "overflow": null,
            "overflow_x": null,
            "overflow_y": null,
            "padding": null,
            "right": null,
            "top": null,
            "visibility": null,
            "width": null
          }
        },
        "518b6a404111406b8b5c19d7300328e9": {
          "model_module": "@jupyter-widgets/controls",
          "model_name": "DescriptionStyleModel",
          "model_module_version": "1.5.0",
          "state": {
            "_model_module": "@jupyter-widgets/controls",
            "_model_module_version": "1.5.0",
            "_model_name": "DescriptionStyleModel",
            "_view_count": null,
            "_view_module": "@jupyter-widgets/base",
            "_view_module_version": "1.2.0",
            "_view_name": "StyleView",
            "description_width": ""
          }
        },
        "6907b409203847fb95e85685860355a9": {
          "model_module": "@jupyter-widgets/base",
          "model_name": "LayoutModel",
          "model_module_version": "1.2.0",
          "state": {
            "_model_module": "@jupyter-widgets/base",
            "_model_module_version": "1.2.0",
            "_model_name": "LayoutModel",
            "_view_count": null,
            "_view_module": "@jupyter-widgets/base",
            "_view_module_version": "1.2.0",
            "_view_name": "LayoutView",
            "align_content": null,
            "align_items": null,
            "align_self": null,
            "border": null,
            "bottom": null,
            "display": null,
            "flex": null,
            "flex_flow": null,
            "grid_area": null,
            "grid_auto_columns": null,
            "grid_auto_flow": null,
            "grid_auto_rows": null,
            "grid_column": null,
            "grid_gap": null,
            "grid_row": null,
            "grid_template_areas": null,
            "grid_template_columns": null,
            "grid_template_rows": null,
            "height": null,
            "justify_content": null,
            "justify_items": null,
            "left": null,
            "margin": null,
            "max_height": null,
            "max_width": null,
            "min_height": null,
            "min_width": null,
            "object_fit": null,
            "object_position": null,
            "order": null,
            "overflow": null,
            "overflow_x": null,
            "overflow_y": null,
            "padding": null,
            "right": null,
            "top": null,
            "visibility": null,
            "width": null
          }
        },
        "fb29e563adb74bcc989877066f51df58": {
          "model_module": "@jupyter-widgets/controls",
          "model_name": "ProgressStyleModel",
          "model_module_version": "1.5.0",
          "state": {
            "_model_module": "@jupyter-widgets/controls",
            "_model_module_version": "1.5.0",
            "_model_name": "ProgressStyleModel",
            "_view_count": null,
            "_view_module": "@jupyter-widgets/base",
            "_view_module_version": "1.2.0",
            "_view_name": "StyleView",
            "bar_color": null,
            "description_width": ""
          }
        },
        "4134c46ad0074ecf9bb3cb36f21c8ca9": {
          "model_module": "@jupyter-widgets/base",
          "model_name": "LayoutModel",
          "model_module_version": "1.2.0",
          "state": {
            "_model_module": "@jupyter-widgets/base",
            "_model_module_version": "1.2.0",
            "_model_name": "LayoutModel",
            "_view_count": null,
            "_view_module": "@jupyter-widgets/base",
            "_view_module_version": "1.2.0",
            "_view_name": "LayoutView",
            "align_content": null,
            "align_items": null,
            "align_self": null,
            "border": null,
            "bottom": null,
            "display": null,
            "flex": null,
            "flex_flow": null,
            "grid_area": null,
            "grid_auto_columns": null,
            "grid_auto_flow": null,
            "grid_auto_rows": null,
            "grid_column": null,
            "grid_gap": null,
            "grid_row": null,
            "grid_template_areas": null,
            "grid_template_columns": null,
            "grid_template_rows": null,
            "height": null,
            "justify_content": null,
            "justify_items": null,
            "left": null,
            "margin": null,
            "max_height": null,
            "max_width": null,
            "min_height": null,
            "min_width": null,
            "object_fit": null,
            "object_position": null,
            "order": null,
            "overflow": null,
            "overflow_x": null,
            "overflow_y": null,
            "padding": null,
            "right": null,
            "top": null,
            "visibility": null,
            "width": null
          }
        },
        "c79d3cfa219a4a03be1274028b72bc82": {
          "model_module": "@jupyter-widgets/controls",
          "model_name": "DescriptionStyleModel",
          "model_module_version": "1.5.0",
          "state": {
            "_model_module": "@jupyter-widgets/controls",
            "_model_module_version": "1.5.0",
            "_model_name": "DescriptionStyleModel",
            "_view_count": null,
            "_view_module": "@jupyter-widgets/base",
            "_view_module_version": "1.2.0",
            "_view_name": "StyleView",
            "description_width": ""
          }
        },
        "b67ed243505540b38165b609b6cd2733": {
          "model_module": "@jupyter-widgets/controls",
          "model_name": "HBoxModel",
          "model_module_version": "1.5.0",
          "state": {
            "_dom_classes": [],
            "_model_module": "@jupyter-widgets/controls",
            "_model_module_version": "1.5.0",
            "_model_name": "HBoxModel",
            "_view_count": null,
            "_view_module": "@jupyter-widgets/controls",
            "_view_module_version": "1.5.0",
            "_view_name": "HBoxView",
            "box_style": "",
            "children": [
              "IPY_MODEL_c86a0f562cfd4d489b9c9634ce057e45",
              "IPY_MODEL_dba7d3ff5584475db4c73cb686cc9643",
              "IPY_MODEL_12f9ac44d8e64a9aa3492fa8dedd07d5"
            ],
            "layout": "IPY_MODEL_4d14d6e735dd420494aba58c522a28a8"
          }
        },
        "c86a0f562cfd4d489b9c9634ce057e45": {
          "model_module": "@jupyter-widgets/controls",
          "model_name": "HTMLModel",
          "model_module_version": "1.5.0",
          "state": {
            "_dom_classes": [],
            "_model_module": "@jupyter-widgets/controls",
            "_model_module_version": "1.5.0",
            "_model_name": "HTMLModel",
            "_view_count": null,
            "_view_module": "@jupyter-widgets/controls",
            "_view_module_version": "1.5.0",
            "_view_name": "HTMLView",
            "description": "",
            "description_tooltip": null,
            "layout": "IPY_MODEL_383bfa2dc1b644ce91eee3616c6ae519",
            "placeholder": "​",
            "style": "IPY_MODEL_2444c2aafcd4478e8c24aa851cac662b",
            "value": "Phishing_Email.csv: 100%"
          }
        },
        "dba7d3ff5584475db4c73cb686cc9643": {
          "model_module": "@jupyter-widgets/controls",
          "model_name": "FloatProgressModel",
          "model_module_version": "1.5.0",
          "state": {
            "_dom_classes": [],
            "_model_module": "@jupyter-widgets/controls",
            "_model_module_version": "1.5.0",
            "_model_name": "FloatProgressModel",
            "_view_count": null,
            "_view_module": "@jupyter-widgets/controls",
            "_view_module_version": "1.5.0",
            "_view_name": "ProgressView",
            "bar_style": "success",
            "description": "",
            "description_tooltip": null,
            "layout": "IPY_MODEL_80e6075bc4ae4ae1b8391c4d583b174f",
            "max": 52034604,
            "min": 0,
            "orientation": "horizontal",
            "style": "IPY_MODEL_92b56254951849a6a93686f2e56bc3cc",
            "value": 52034604
          }
        },
        "12f9ac44d8e64a9aa3492fa8dedd07d5": {
          "model_module": "@jupyter-widgets/controls",
          "model_name": "HTMLModel",
          "model_module_version": "1.5.0",
          "state": {
            "_dom_classes": [],
            "_model_module": "@jupyter-widgets/controls",
            "_model_module_version": "1.5.0",
            "_model_name": "HTMLModel",
            "_view_count": null,
            "_view_module": "@jupyter-widgets/controls",
            "_view_module_version": "1.5.0",
            "_view_name": "HTMLView",
            "description": "",
            "description_tooltip": null,
            "layout": "IPY_MODEL_67a7a9d242bf4d808f01b3e84fed1933",
            "placeholder": "​",
            "style": "IPY_MODEL_eea0d065c381414dacf619f8cfd8d167",
            "value": " 52.0M/52.0M [00:00&lt;00:00, 163MB/s]"
          }
        },
        "4d14d6e735dd420494aba58c522a28a8": {
          "model_module": "@jupyter-widgets/base",
          "model_name": "LayoutModel",
          "model_module_version": "1.2.0",
          "state": {
            "_model_module": "@jupyter-widgets/base",
            "_model_module_version": "1.2.0",
            "_model_name": "LayoutModel",
            "_view_count": null,
            "_view_module": "@jupyter-widgets/base",
            "_view_module_version": "1.2.0",
            "_view_name": "LayoutView",
            "align_content": null,
            "align_items": null,
            "align_self": null,
            "border": null,
            "bottom": null,
            "display": null,
            "flex": null,
            "flex_flow": null,
            "grid_area": null,
            "grid_auto_columns": null,
            "grid_auto_flow": null,
            "grid_auto_rows": null,
            "grid_column": null,
            "grid_gap": null,
            "grid_row": null,
            "grid_template_areas": null,
            "grid_template_columns": null,
            "grid_template_rows": null,
            "height": null,
            "justify_content": null,
            "justify_items": null,
            "left": null,
            "margin": null,
            "max_height": null,
            "max_width": null,
            "min_height": null,
            "min_width": null,
            "object_fit": null,
            "object_position": null,
            "order": null,
            "overflow": null,
            "overflow_x": null,
            "overflow_y": null,
            "padding": null,
            "right": null,
            "top": null,
            "visibility": null,
            "width": null
          }
        },
        "383bfa2dc1b644ce91eee3616c6ae519": {
          "model_module": "@jupyter-widgets/base",
          "model_name": "LayoutModel",
          "model_module_version": "1.2.0",
          "state": {
            "_model_module": "@jupyter-widgets/base",
            "_model_module_version": "1.2.0",
            "_model_name": "LayoutModel",
            "_view_count": null,
            "_view_module": "@jupyter-widgets/base",
            "_view_module_version": "1.2.0",
            "_view_name": "LayoutView",
            "align_content": null,
            "align_items": null,
            "align_self": null,
            "border": null,
            "bottom": null,
            "display": null,
            "flex": null,
            "flex_flow": null,
            "grid_area": null,
            "grid_auto_columns": null,
            "grid_auto_flow": null,
            "grid_auto_rows": null,
            "grid_column": null,
            "grid_gap": null,
            "grid_row": null,
            "grid_template_areas": null,
            "grid_template_columns": null,
            "grid_template_rows": null,
            "height": null,
            "justify_content": null,
            "justify_items": null,
            "left": null,
            "margin": null,
            "max_height": null,
            "max_width": null,
            "min_height": null,
            "min_width": null,
            "object_fit": null,
            "object_position": null,
            "order": null,
            "overflow": null,
            "overflow_x": null,
            "overflow_y": null,
            "padding": null,
            "right": null,
            "top": null,
            "visibility": null,
            "width": null
          }
        },
        "2444c2aafcd4478e8c24aa851cac662b": {
          "model_module": "@jupyter-widgets/controls",
          "model_name": "DescriptionStyleModel",
          "model_module_version": "1.5.0",
          "state": {
            "_model_module": "@jupyter-widgets/controls",
            "_model_module_version": "1.5.0",
            "_model_name": "DescriptionStyleModel",
            "_view_count": null,
            "_view_module": "@jupyter-widgets/base",
            "_view_module_version": "1.2.0",
            "_view_name": "StyleView",
            "description_width": ""
          }
        },
        "80e6075bc4ae4ae1b8391c4d583b174f": {
          "model_module": "@jupyter-widgets/base",
          "model_name": "LayoutModel",
          "model_module_version": "1.2.0",
          "state": {
            "_model_module": "@jupyter-widgets/base",
            "_model_module_version": "1.2.0",
            "_model_name": "LayoutModel",
            "_view_count": null,
            "_view_module": "@jupyter-widgets/base",
            "_view_module_version": "1.2.0",
            "_view_name": "LayoutView",
            "align_content": null,
            "align_items": null,
            "align_self": null,
            "border": null,
            "bottom": null,
            "display": null,
            "flex": null,
            "flex_flow": null,
            "grid_area": null,
            "grid_auto_columns": null,
            "grid_auto_flow": null,
            "grid_auto_rows": null,
            "grid_column": null,
            "grid_gap": null,
            "grid_row": null,
            "grid_template_areas": null,
            "grid_template_columns": null,
            "grid_template_rows": null,
            "height": null,
            "justify_content": null,
            "justify_items": null,
            "left": null,
            "margin": null,
            "max_height": null,
            "max_width": null,
            "min_height": null,
            "min_width": null,
            "object_fit": null,
            "object_position": null,
            "order": null,
            "overflow": null,
            "overflow_x": null,
            "overflow_y": null,
            "padding": null,
            "right": null,
            "top": null,
            "visibility": null,
            "width": null
          }
        },
        "92b56254951849a6a93686f2e56bc3cc": {
          "model_module": "@jupyter-widgets/controls",
          "model_name": "ProgressStyleModel",
          "model_module_version": "1.5.0",
          "state": {
            "_model_module": "@jupyter-widgets/controls",
            "_model_module_version": "1.5.0",
            "_model_name": "ProgressStyleModel",
            "_view_count": null,
            "_view_module": "@jupyter-widgets/base",
            "_view_module_version": "1.2.0",
            "_view_name": "StyleView",
            "bar_color": null,
            "description_width": ""
          }
        },
        "67a7a9d242bf4d808f01b3e84fed1933": {
          "model_module": "@jupyter-widgets/base",
          "model_name": "LayoutModel",
          "model_module_version": "1.2.0",
          "state": {
            "_model_module": "@jupyter-widgets/base",
            "_model_module_version": "1.2.0",
            "_model_name": "LayoutModel",
            "_view_count": null,
            "_view_module": "@jupyter-widgets/base",
            "_view_module_version": "1.2.0",
            "_view_name": "LayoutView",
            "align_content": null,
            "align_items": null,
            "align_self": null,
            "border": null,
            "bottom": null,
            "display": null,
            "flex": null,
            "flex_flow": null,
            "grid_area": null,
            "grid_auto_columns": null,
            "grid_auto_flow": null,
            "grid_auto_rows": null,
            "grid_column": null,
            "grid_gap": null,
            "grid_row": null,
            "grid_template_areas": null,
            "grid_template_columns": null,
            "grid_template_rows": null,
            "height": null,
            "justify_content": null,
            "justify_items": null,
            "left": null,
            "margin": null,
            "max_height": null,
            "max_width": null,
            "min_height": null,
            "min_width": null,
            "object_fit": null,
            "object_position": null,
            "order": null,
            "overflow": null,
            "overflow_x": null,
            "overflow_y": null,
            "padding": null,
            "right": null,
            "top": null,
            "visibility": null,
            "width": null
          }
        },
        "eea0d065c381414dacf619f8cfd8d167": {
          "model_module": "@jupyter-widgets/controls",
          "model_name": "DescriptionStyleModel",
          "model_module_version": "1.5.0",
          "state": {
            "_model_module": "@jupyter-widgets/controls",
            "_model_module_version": "1.5.0",
            "_model_name": "DescriptionStyleModel",
            "_view_count": null,
            "_view_module": "@jupyter-widgets/base",
            "_view_module_version": "1.2.0",
            "_view_name": "StyleView",
            "description_width": ""
          }
        },
        "6ee262198b17440cab0ffb63a8fe9d83": {
          "model_module": "@jupyter-widgets/controls",
          "model_name": "HBoxModel",
          "model_module_version": "1.5.0",
          "state": {
            "_dom_classes": [],
            "_model_module": "@jupyter-widgets/controls",
            "_model_module_version": "1.5.0",
            "_model_name": "HBoxModel",
            "_view_count": null,
            "_view_module": "@jupyter-widgets/controls",
            "_view_module_version": "1.5.0",
            "_view_name": "HBoxView",
            "box_style": "",
            "children": [
              "IPY_MODEL_8051b3c27160458bbb0c11ef12ef6229",
              "IPY_MODEL_ab1d4f5f7486412c9571b2bb9bfff227",
              "IPY_MODEL_550bd78e6a654b91b4252ed0f39e725f"
            ],
            "layout": "IPY_MODEL_13a4c3a6ca6d4190b54989fc5bc35675"
          }
        },
        "8051b3c27160458bbb0c11ef12ef6229": {
          "model_module": "@jupyter-widgets/controls",
          "model_name": "HTMLModel",
          "model_module_version": "1.5.0",
          "state": {
            "_dom_classes": [],
            "_model_module": "@jupyter-widgets/controls",
            "_model_module_version": "1.5.0",
            "_model_name": "HTMLModel",
            "_view_count": null,
            "_view_module": "@jupyter-widgets/controls",
            "_view_module_version": "1.5.0",
            "_view_name": "HTMLView",
            "description": "",
            "description_tooltip": null,
            "layout": "IPY_MODEL_26b36ba41fbe4ff4babd8ea25ba0dc0f",
            "placeholder": "​",
            "style": "IPY_MODEL_bdbb11d07f41438db9c3f33f37989b32",
            "value": "Generating train split: 100%"
          }
        },
        "ab1d4f5f7486412c9571b2bb9bfff227": {
          "model_module": "@jupyter-widgets/controls",
          "model_name": "FloatProgressModel",
          "model_module_version": "1.5.0",
          "state": {
            "_dom_classes": [],
            "_model_module": "@jupyter-widgets/controls",
            "_model_module_version": "1.5.0",
            "_model_name": "FloatProgressModel",
            "_view_count": null,
            "_view_module": "@jupyter-widgets/controls",
            "_view_module_version": "1.5.0",
            "_view_name": "ProgressView",
            "bar_style": "success",
            "description": "",
            "description_tooltip": null,
            "layout": "IPY_MODEL_6cd6f9edc8e74fb58cddf52da43ed147",
            "max": 18650,
            "min": 0,
            "orientation": "horizontal",
            "style": "IPY_MODEL_4666837f307e4ea38b2bacd6c13faba5",
            "value": 18650
          }
        },
        "550bd78e6a654b91b4252ed0f39e725f": {
          "model_module": "@jupyter-widgets/controls",
          "model_name": "HTMLModel",
          "model_module_version": "1.5.0",
          "state": {
            "_dom_classes": [],
            "_model_module": "@jupyter-widgets/controls",
            "_model_module_version": "1.5.0",
            "_model_name": "HTMLModel",
            "_view_count": null,
            "_view_module": "@jupyter-widgets/controls",
            "_view_module_version": "1.5.0",
            "_view_name": "HTMLView",
            "description": "",
            "description_tooltip": null,
            "layout": "IPY_MODEL_1f2dc13f7a314492adc8b3f7c39fd5bc",
            "placeholder": "​",
            "style": "IPY_MODEL_2bf3d4b1b6ed44f8bb99690f1657b600",
            "value": " 18650/18650 [00:01&lt;00:00, 10044.73 examples/s]"
          }
        },
        "13a4c3a6ca6d4190b54989fc5bc35675": {
          "model_module": "@jupyter-widgets/base",
          "model_name": "LayoutModel",
          "model_module_version": "1.2.0",
          "state": {
            "_model_module": "@jupyter-widgets/base",
            "_model_module_version": "1.2.0",
            "_model_name": "LayoutModel",
            "_view_count": null,
            "_view_module": "@jupyter-widgets/base",
            "_view_module_version": "1.2.0",
            "_view_name": "LayoutView",
            "align_content": null,
            "align_items": null,
            "align_self": null,
            "border": null,
            "bottom": null,
            "display": null,
            "flex": null,
            "flex_flow": null,
            "grid_area": null,
            "grid_auto_columns": null,
            "grid_auto_flow": null,
            "grid_auto_rows": null,
            "grid_column": null,
            "grid_gap": null,
            "grid_row": null,
            "grid_template_areas": null,
            "grid_template_columns": null,
            "grid_template_rows": null,
            "height": null,
            "justify_content": null,
            "justify_items": null,
            "left": null,
            "margin": null,
            "max_height": null,
            "max_width": null,
            "min_height": null,
            "min_width": null,
            "object_fit": null,
            "object_position": null,
            "order": null,
            "overflow": null,
            "overflow_x": null,
            "overflow_y": null,
            "padding": null,
            "right": null,
            "top": null,
            "visibility": null,
            "width": null
          }
        },
        "26b36ba41fbe4ff4babd8ea25ba0dc0f": {
          "model_module": "@jupyter-widgets/base",
          "model_name": "LayoutModel",
          "model_module_version": "1.2.0",
          "state": {
            "_model_module": "@jupyter-widgets/base",
            "_model_module_version": "1.2.0",
            "_model_name": "LayoutModel",
            "_view_count": null,
            "_view_module": "@jupyter-widgets/base",
            "_view_module_version": "1.2.0",
            "_view_name": "LayoutView",
            "align_content": null,
            "align_items": null,
            "align_self": null,
            "border": null,
            "bottom": null,
            "display": null,
            "flex": null,
            "flex_flow": null,
            "grid_area": null,
            "grid_auto_columns": null,
            "grid_auto_flow": null,
            "grid_auto_rows": null,
            "grid_column": null,
            "grid_gap": null,
            "grid_row": null,
            "grid_template_areas": null,
            "grid_template_columns": null,
            "grid_template_rows": null,
            "height": null,
            "justify_content": null,
            "justify_items": null,
            "left": null,
            "margin": null,
            "max_height": null,
            "max_width": null,
            "min_height": null,
            "min_width": null,
            "object_fit": null,
            "object_position": null,
            "order": null,
            "overflow": null,
            "overflow_x": null,
            "overflow_y": null,
            "padding": null,
            "right": null,
            "top": null,
            "visibility": null,
            "width": null
          }
        },
        "bdbb11d07f41438db9c3f33f37989b32": {
          "model_module": "@jupyter-widgets/controls",
          "model_name": "DescriptionStyleModel",
          "model_module_version": "1.5.0",
          "state": {
            "_model_module": "@jupyter-widgets/controls",
            "_model_module_version": "1.5.0",
            "_model_name": "DescriptionStyleModel",
            "_view_count": null,
            "_view_module": "@jupyter-widgets/base",
            "_view_module_version": "1.2.0",
            "_view_name": "StyleView",
            "description_width": ""
          }
        },
        "6cd6f9edc8e74fb58cddf52da43ed147": {
          "model_module": "@jupyter-widgets/base",
          "model_name": "LayoutModel",
          "model_module_version": "1.2.0",
          "state": {
            "_model_module": "@jupyter-widgets/base",
            "_model_module_version": "1.2.0",
            "_model_name": "LayoutModel",
            "_view_count": null,
            "_view_module": "@jupyter-widgets/base",
            "_view_module_version": "1.2.0",
            "_view_name": "LayoutView",
            "align_content": null,
            "align_items": null,
            "align_self": null,
            "border": null,
            "bottom": null,
            "display": null,
            "flex": null,
            "flex_flow": null,
            "grid_area": null,
            "grid_auto_columns": null,
            "grid_auto_flow": null,
            "grid_auto_rows": null,
            "grid_column": null,
            "grid_gap": null,
            "grid_row": null,
            "grid_template_areas": null,
            "grid_template_columns": null,
            "grid_template_rows": null,
            "height": null,
            "justify_content": null,
            "justify_items": null,
            "left": null,
            "margin": null,
            "max_height": null,
            "max_width": null,
            "min_height": null,
            "min_width": null,
            "object_fit": null,
            "object_position": null,
            "order": null,
            "overflow": null,
            "overflow_x": null,
            "overflow_y": null,
            "padding": null,
            "right": null,
            "top": null,
            "visibility": null,
            "width": null
          }
        },
        "4666837f307e4ea38b2bacd6c13faba5": {
          "model_module": "@jupyter-widgets/controls",
          "model_name": "ProgressStyleModel",
          "model_module_version": "1.5.0",
          "state": {
            "_model_module": "@jupyter-widgets/controls",
            "_model_module_version": "1.5.0",
            "_model_name": "ProgressStyleModel",
            "_view_count": null,
            "_view_module": "@jupyter-widgets/base",
            "_view_module_version": "1.2.0",
            "_view_name": "StyleView",
            "bar_color": null,
            "description_width": ""
          }
        },
        "1f2dc13f7a314492adc8b3f7c39fd5bc": {
          "model_module": "@jupyter-widgets/base",
          "model_name": "LayoutModel",
          "model_module_version": "1.2.0",
          "state": {
            "_model_module": "@jupyter-widgets/base",
            "_model_module_version": "1.2.0",
            "_model_name": "LayoutModel",
            "_view_count": null,
            "_view_module": "@jupyter-widgets/base",
            "_view_module_version": "1.2.0",
            "_view_name": "LayoutView",
            "align_content": null,
            "align_items": null,
            "align_self": null,
            "border": null,
            "bottom": null,
            "display": null,
            "flex": null,
            "flex_flow": null,
            "grid_area": null,
            "grid_auto_columns": null,
            "grid_auto_flow": null,
            "grid_auto_rows": null,
            "grid_column": null,
            "grid_gap": null,
            "grid_row": null,
            "grid_template_areas": null,
            "grid_template_columns": null,
            "grid_template_rows": null,
            "height": null,
            "justify_content": null,
            "justify_items": null,
            "left": null,
            "margin": null,
            "max_height": null,
            "max_width": null,
            "min_height": null,
            "min_width": null,
            "object_fit": null,
            "object_position": null,
            "order": null,
            "overflow": null,
            "overflow_x": null,
            "overflow_y": null,
            "padding": null,
            "right": null,
            "top": null,
            "visibility": null,
            "width": null
          }
        },
        "2bf3d4b1b6ed44f8bb99690f1657b600": {
          "model_module": "@jupyter-widgets/controls",
          "model_name": "DescriptionStyleModel",
          "model_module_version": "1.5.0",
          "state": {
            "_model_module": "@jupyter-widgets/controls",
            "_model_module_version": "1.5.0",
            "_model_name": "DescriptionStyleModel",
            "_view_count": null,
            "_view_module": "@jupyter-widgets/base",
            "_view_module_version": "1.2.0",
            "_view_name": "StyleView",
            "description_width": ""
          }
        }
      }
    }
  },
  "cells": [
    {
      "cell_type": "code",
      "execution_count": 18,
      "metadata": {
        "id": "NuQpXo3tCMQq"
      },
      "outputs": [],
      "source": [
        "import pandas as pd\n",
        "import numpy as np\n",
        "from datasets import load_dataset\n",
        "from sklearn.model_selection import train_test_split\n",
        "from sklearn.feature_extraction.text import TfidfVectorizer\n",
        "from sklearn.svm import LinearSVC\n",
        "from sklearn.metrics import classification_report\n",
        "from sklearn.preprocessing import StandardScaler\n",
        "from sklearn.compose import ColumnTransformer\n",
        "from sklearn.pipeline import Pipeline\n",
        "import pickle\n",
        "import re"
      ]
    },
    {
      "cell_type": "code",
      "source": [
        "# 1. Import necessary libraries\n",
        "import pandas as pd\n",
        "from datasets import load_dataset\n",
        "from sklearn.model_selection import train_test_split\n",
        "from sklearn.feature_extraction.text import TfidfVectorizer\n",
        "from sklearn.naive_bayes import MultinomialNB\n",
        "from sklearn.metrics import accuracy_score, classification_report, confusion_matrix\n",
        "import seaborn as sns\n",
        "import matplotlib.pyplot as plt\n",
        "\n",
        "# 2. Load the dataset from Hugging Face Hub\n",
        "print(\"Loading dataset...\")\n",
        "dataset = load_dataset(\"zefang-liu/phishing-email-dataset\", split=\"train\")\n",
        "df = dataset.to_pandas()"
      ],
      "metadata": {
        "colab": {
          "base_uri": "https://localhost:8080/",
          "height": 242,
          "referenced_widgets": [
            "169c7aa4eef54efb9cbe0634f0882c0b",
            "e2c19dae6afe451aad399769713d88bd",
            "1dd358dc943e4fae871bf8ddb9e06e44",
            "869bdb6840864d8db19d6f857a6e64bd",
            "9e0b18d593324a2d97a6dfd2f1dab949",
            "19f63aa13cc04d1688f5a239b72d1120",
            "518b6a404111406b8b5c19d7300328e9",
            "6907b409203847fb95e85685860355a9",
            "fb29e563adb74bcc989877066f51df58",
            "4134c46ad0074ecf9bb3cb36f21c8ca9",
            "c79d3cfa219a4a03be1274028b72bc82",
            "b67ed243505540b38165b609b6cd2733",
            "c86a0f562cfd4d489b9c9634ce057e45",
            "dba7d3ff5584475db4c73cb686cc9643",
            "12f9ac44d8e64a9aa3492fa8dedd07d5",
            "4d14d6e735dd420494aba58c522a28a8",
            "383bfa2dc1b644ce91eee3616c6ae519",
            "2444c2aafcd4478e8c24aa851cac662b",
            "80e6075bc4ae4ae1b8391c4d583b174f",
            "92b56254951849a6a93686f2e56bc3cc",
            "67a7a9d242bf4d808f01b3e84fed1933",
            "eea0d065c381414dacf619f8cfd8d167",
            "6ee262198b17440cab0ffb63a8fe9d83",
            "8051b3c27160458bbb0c11ef12ef6229",
            "ab1d4f5f7486412c9571b2bb9bfff227",
            "550bd78e6a654b91b4252ed0f39e725f",
            "13a4c3a6ca6d4190b54989fc5bc35675",
            "26b36ba41fbe4ff4babd8ea25ba0dc0f",
            "bdbb11d07f41438db9c3f33f37989b32",
            "6cd6f9edc8e74fb58cddf52da43ed147",
            "4666837f307e4ea38b2bacd6c13faba5",
            "1f2dc13f7a314492adc8b3f7c39fd5bc",
            "2bf3d4b1b6ed44f8bb99690f1657b600"
          ]
        },
        "id": "V05js1thCQYU",
        "outputId": "dc197a2a-652a-496d-d6e5-daba978512f8"
      },
      "execution_count": 1,
      "outputs": [
        {
          "output_type": "stream",
          "name": "stdout",
          "text": [
            "Loading dataset...\n"
          ]
        },
        {
          "output_type": "stream",
          "name": "stderr",
          "text": [
            "/usr/local/lib/python3.12/dist-packages/huggingface_hub/utils/_auth.py:94: UserWarning: \n",
            "The secret `HF_TOKEN` does not exist in your Colab secrets.\n",
            "To authenticate with the Hugging Face Hub, create a token in your settings tab (https://huggingface.co/settings/tokens), set it as secret in your Google Colab and restart your session.\n",
            "You will be able to reuse this secret in all of your notebooks.\n",
            "Please note that authentication is recommended but still optional to access public models or datasets.\n",
            "  warnings.warn(\n"
          ]
        },
        {
          "output_type": "display_data",
          "data": {
            "text/plain": [
              "README.md:   0%|          | 0.00/616 [00:00<?, ?B/s]"
            ],
            "application/vnd.jupyter.widget-view+json": {
              "version_major": 2,
              "version_minor": 0,
              "model_id": "169c7aa4eef54efb9cbe0634f0882c0b"
            }
          },
          "metadata": {}
        },
        {
          "output_type": "display_data",
          "data": {
            "text/plain": [
              "Phishing_Email.csv:   0%|          | 0.00/52.0M [00:00<?, ?B/s]"
            ],
            "application/vnd.jupyter.widget-view+json": {
              "version_major": 2,
              "version_minor": 0,
              "model_id": "b67ed243505540b38165b609b6cd2733"
            }
          },
          "metadata": {}
        },
        {
          "output_type": "display_data",
          "data": {
            "text/plain": [
              "Generating train split:   0%|          | 0/18650 [00:00<?, ? examples/s]"
            ],
            "application/vnd.jupyter.widget-view+json": {
              "version_major": 2,
              "version_minor": 0,
              "model_id": "6ee262198b17440cab0ffb63a8fe9d83"
            }
          },
          "metadata": {}
        }
      ]
    },
    {
      "cell_type": "code",
      "source": [
        "# Drop any rows with missing values to ensure data quality\n",
        "df.dropna(inplace=True)\n",
        "# Rename columns for easier access\n",
        "df.rename(columns={\"Email Text\": \"text\", \"Email Type\": \"label\"}, inplace=True)\n",
        "\n",
        "print(f\"Dataset loaded successfully with {len(df)} emails.\")\n",
        "print(\"\\nDataset Info:\")\n",
        "df.info()\n",
        "print(\"\\nClass Distribution:\")\n",
        "print(df['label'].value_counts())\n",
        "\n",
        "\n",
        "# 3. Preprocess the Data\n",
        "# Separate features (X) and target (y)\n",
        "X = df['text']\n",
        "y = df['label']"
      ],
      "metadata": {
        "colab": {
          "base_uri": "https://localhost:8080/"
        },
        "id": "frlhongQCXwp",
        "outputId": "16a9e825-90a6-4a87-b920-3440a76d266b"
      },
      "execution_count": 2,
      "outputs": [
        {
          "output_type": "stream",
          "name": "stdout",
          "text": [
            "Dataset loaded successfully with 18634 emails.\n",
            "\n",
            "Dataset Info:\n",
            "<class 'pandas.core.frame.DataFrame'>\n",
            "Index: 18634 entries, 0 to 18649\n",
            "Data columns (total 3 columns):\n",
            " #   Column      Non-Null Count  Dtype \n",
            "---  ------      --------------  ----- \n",
            " 0   Unnamed: 0  18634 non-null  int64 \n",
            " 1   text        18634 non-null  object\n",
            " 2   label       18634 non-null  object\n",
            "dtypes: int64(1), object(2)\n",
            "memory usage: 582.3+ KB\n",
            "\n",
            "Class Distribution:\n",
            "label\n",
            "Safe Email        11322\n",
            "Phishing Email     7312\n",
            "Name: count, dtype: int64\n"
          ]
        }
      ]
    },
    {
      "cell_type": "code",
      "source": [
        "# Create a TF-IDF Vectorizer to convert text into numerical features.\n",
        "# TF-IDF (Term Frequency-Inverse Document Frequency) is a standard technique\n",
        "# for text classification that reflects how important a word is to a document.\n",
        "print(\"\\nVectorizing text data...\")\n",
        "vectorizer = TfidfVectorizer(stop_words='english', max_df=0.7)\n",
        "X_tfidf = vectorizer.fit_transform(X)\n",
        "print(\"Vectorization complete.\")\n",
        "\n",
        "\n",
        "# 4. Split Data into Training and Testing Sets\n",
        "# We'll use 80% of the data for training and 20% for testing.\n",
        "print(\"\\nSplitting data into training and testing sets...\")\n",
        "X_train, X_test, y_train, y_test = train_test_split(\n",
        "    X_tfidf, y, test_size=0.2, random_state=42, stratify=y\n",
        ")\n",
        "print(f\"Training set size: {X_train.shape[0]} emails\")\n",
        "print(f\"Test set size: {X_test.shape[0]} emails\")"
      ],
      "metadata": {
        "colab": {
          "base_uri": "https://localhost:8080/"
        },
        "id": "L_0iWaGACZga",
        "outputId": "4204bf27-61bd-4760-e471-cba6c9d400e0"
      },
      "execution_count": 3,
      "outputs": [
        {
          "output_type": "stream",
          "name": "stdout",
          "text": [
            "\n",
            "Vectorizing text data...\n",
            "Vectorization complete.\n",
            "\n",
            "Splitting data into training and testing sets...\n",
            "Training set size: 14907 emails\n",
            "Test set size: 3727 emails\n"
          ]
        }
      ]
    },
    {
      "cell_type": "code",
      "source": [
        "# 5. Train the Machine Learning Model\n",
        "# We will use the Multinomial Naive Bayes algorithm, which is highly\n",
        "# effective and efficient for text classification tasks like this one.\n",
        "print(\"\\nTraining the Naive Bayes classifier...\")\n",
        "model = MultinomialNB()\n",
        "model.fit(X_train, y_train)\n",
        "print(\"Model training complete.\")\n",
        "\n",
        "\n",
        "# 6. Evaluate the Model\n",
        "print(\"\\nEvaluating the model...\")\n",
        "# Make predictions on the test set\n",
        "y_pred = model.predict(X_test)\n",
        "\n",
        "# Calculate accuracy\n",
        "accuracy = accuracy_score(y_test, y_pred)\n",
        "print(f\"\\nModel Accuracy: {accuracy:.4f}\")"
      ],
      "metadata": {
        "colab": {
          "base_uri": "https://localhost:8080/"
        },
        "id": "jv9Bu07DD8Yk",
        "outputId": "5135b08b-bdf1-4f36-c6d7-403e88752a5f"
      },
      "execution_count": 4,
      "outputs": [
        {
          "output_type": "stream",
          "name": "stdout",
          "text": [
            "\n",
            "Training the Naive Bayes classifier...\n",
            "Model training complete.\n",
            "\n",
            "Evaluating the model...\n",
            "\n",
            "Model Accuracy: 0.9289\n"
          ]
        }
      ]
    },
    {
      "cell_type": "code",
      "source": [
        "# Display a detailed classification report\n",
        "print(\"\\nClassification Report:\")\n",
        "print(classification_report(y_test, y_pred))\n",
        "\n",
        "# Display a confusion matrix to visualize performance\n",
        "print(\"\\nConfusion Matrix:\")\n",
        "cm = confusion_matrix(y_test, y_pred)\n",
        "plt.figure(figsize=(8, 6))\n",
        "sns.heatmap(cm, annot=True, fmt='d', cmap='Blues',\n",
        "            xticklabels=['Phishing Email', 'Safe Email'],\n",
        "            yticklabels=['Phishing Email', 'Safe Email'])\n",
        "plt.xlabel('Predicted Label')\n",
        "plt.ylabel('True Label')\n",
        "plt.title('Confusion Matrix')\n",
        "plt.show()"
      ],
      "metadata": {
        "colab": {
          "base_uri": "https://localhost:8080/",
          "height": 803
        },
        "id": "MAY-XqZjEBdW",
        "outputId": "06b9ecf6-611e-4af4-839f-02b2a8c141fd"
      },
      "execution_count": 5,
      "outputs": [
        {
          "output_type": "stream",
          "name": "stdout",
          "text": [
            "\n",
            "Classification Report:\n",
            "                precision    recall  f1-score   support\n",
            "\n",
            "Phishing Email       1.00      0.82      0.90      1462\n",
            "    Safe Email       0.90      1.00      0.94      2265\n",
            "\n",
            "      accuracy                           0.93      3727\n",
            "     macro avg       0.95      0.91      0.92      3727\n",
            "  weighted avg       0.94      0.93      0.93      3727\n",
            "\n",
            "\n",
            "Confusion Matrix:\n"
          ]
        },
        {
          "output_type": "display_data",
          "data": {
            "text/plain": [
              "<Figure size 800x600 with 2 Axes>"
            ],
            "image/png": "[encoded data removed]"
          },
          "metadata": {}
        }
      ]
    },
    {
      "cell_type": "code",
      "source": [
        "# 7. Test with a new email example\n",
        "def predict_email(email_text):\n",
        "    \"\"\"\n",
        "    Takes a new email text as input, preprocesses it, and predicts\n",
        "    if it's phishing or safe.\n",
        "    \"\"\"\n",
        "    # Vectorize the new email text using the same vectorizer\n",
        "    email_tfidf = vectorizer.transform([email_text])\n",
        "    # Predict the label\n",
        "    prediction = model.predict(email_tfidf)\n",
        "    # Predict the probabilities for each class\n",
        "    probabilities = model.predict_proba(email_tfidf)\n",
        "\n",
        "    return prediction[0], probabilities[0]"
      ],
      "metadata": {
        "id": "wBwUwCh-EHI0"
      },
      "execution_count": 6,
      "outputs": []
    },
    {
      "cell_type": "code",
      "source": [
        "# Example emails to test\n",
        "phishing_example = \"Subject: Urgent account verification required! Click here to update your details now or your account will be suspended.\"\n",
        "safe_example = \"Subject: Meeting Reminder. Hi team, just a reminder about our quarterly review meeting tomorrow at 10 AM. Please find the agenda attached.\"\n",
        "\n",
        "# Predict the phishing example\n",
        "pred_label, pred_probs = predict_email(phishing_example)\n",
        "print(f\"\\n--- Testing with a new email ---\")\n",
        "print(f\"Email Text: '{phishing_example}'\")\n",
        "print(f\"Predicted Label: {pred_label}\")\n",
        "print(f\"Probabilities: [Phishing: {pred_probs[0]:.2f}, Safe: {pred_probs[1]:.2f}]\")\n",
        "\n",
        "# Predict the safe example\n",
        "pred_label, pred_probs = predict_email(safe_example)\n",
        "print(f\"\\n--- Testing with another new email ---\")\n",
        "print(f\"Email Text: '{safe_example}'\")\n",
        "print(f\"Predicted Label: {pred_label}\")\n",
        "print(f\"Probabilities: [Phishing: {pred_probs[0]:.2f}, Safe: {pred_probs[1]:.2f}]\")\n",
        "\n"
      ],
      "metadata": {
        "colab": {
          "base_uri": "https://localhost:8080/"
        },
        "id": "GwXBlmsGEOYE",
        "outputId": "dee0ebb4-f4a1-48c9-b8c9-9b757928922c"
      },
      "execution_count": 7,
      "outputs": [
        {
          "output_type": "stream",
          "name": "stdout",
          "text": [
            "\n",
            "--- Testing with a new email ---\n",
            "Email Text: 'Subject: Urgent account verification required! Click here to update your details now or your account will be suspended.'\n",
            "Predicted Label: Phishing Email\n",
            "Probabilities: [Phishing: 0.71, Safe: 0.29]\n",
            "\n",
            "--- Testing with another new email ---\n",
            "Email Text: 'Subject: Meeting Reminder. Hi team, just a reminder about our quarterly review meeting tomorrow at 10 AM. Please find the agenda attached.'\n",
            "Predicted Label: Safe Email\n",
            "Probabilities: [Phishing: 0.01, Safe: 0.99]\n"
          ]
        }
      ]
    },
    {
      "cell_type": "code",
      "source": [
        "# 8. Save the Model and Vectorizer to Disk\n",
        "import pickle\n",
        "\n",
        "print(\"\\nSaving the trained model and vectorizer to disk...\")\n",
        "\n",
        "# Define filenames for the model and vectorizer\n",
        "model_filename = 'phishing_detector_model_naive.pkl'\n",
        "vectorizer_filename = 'tfidf_vectorizer.pkl'\n",
        "\n",
        "# Save the Linear SVC model\n",
        "with open(model_filename, 'wb') as model_file:\n",
        "    pickle.dump(model, model_file)\n",
        "print(f\"Model saved successfully as '{model_filename}'\")\n",
        "\n",
        "# Save the TF-IDF vectorizer\n",
        "with open(vectorizer_filename, 'wb') as vectorizer_file:\n",
        "    pickle.dump(vectorizer, vectorizer_file)\n",
        "print(f\"Vectorizer saved successfully as '{vectorizer_filename}'\")\n",
        "\n"
      ],
      "metadata": {
        "colab": {
          "base_uri": "https://localhost:8080/"
        },
        "id": "AWrmM6hTETm3",
        "outputId": "1fa6f389-f9c3-4183-d955-72c0cdfa2f14"
      },
      "execution_count": 8,
      "outputs": [
        {
          "output_type": "stream",
          "name": "stdout",
          "text": [
            "\n",
            "Saving the trained model and vectorizer to disk...\n",
            "Model saved successfully as 'phishing_detector_model_naive.pkl'\n",
            "Vectorizer saved successfully as 'tfidf_vectorizer.pkl'\n"
          ]
        }
      ]
    },
    {
      "cell_type": "code",
      "source": [
        "# load_and_predict.py\n",
        "\n",
        "import pickle\n",
        "\n",
        "# 1. Load the saved model and vectorizer from disk\n",
        "print(\"Loading model and vectorizer...\")\n",
        "with open('phishing_detector_model_naive.pkl', 'rb') as model_file:\n",
        "    loaded_model = pickle.load(model_file)\n",
        "\n",
        "with open('tfidf_vectorizer_naive.pkl', 'rb') as vectorizer_file:\n",
        "    loaded_vectorizer = pickle.load(vectorizer_file)\n",
        "print(\"Loading complete.\")\n",
        "\n",
        "\n",
        "# 2. Define a function to make predictions\n",
        "def predict_email_from_file(email_text):\n",
        "    \"\"\"\n",
        "    Takes new email text, transforms it using the loaded vectorizer,\n",
        "    and predicts the class using the loaded model.\n",
        "    \"\"\"\n",
        "    # Transform the new email text using the loaded vectorizer\n",
        "    email_tfidf = loaded_vectorizer.transform([email_text])\n",
        "\n",
        "    # Predict the label using the loaded model\n",
        "    prediction = loaded_model.predict(email_tfidf)\n",
        "\n",
        "    # For models that support it, you can also get probabilities\n",
        "    # Note: LinearSVC with default settings doesn't directly output probabilities.\n",
        "    # To get them, you'd need to wrap it in CalibratedClassifierCV before training.\n",
        "    # For now, we'll just return the direct prediction.\n",
        "\n",
        "    return prediction[0]\n",
        "\n",
        "# 3. Test with new email examples\n",
        "phishing_example = \"Subject: Package Delivery Attempted – Action Required\"\n",
        "safe_example = \"Subject: Your order has shipped! Hi John, we're happy to let you know that your order #12345 has shipped. You can track it here.\"\n",
        "\n",
        "# Predict the phishing example\n",
        "prediction = predict_email_from_file(phishing_example)\n",
        "print(f\"\\n--- Testing a new email ---\")\n",
        "print(f\"Email Text: '{phishing_example}'\")\n",
        "print(f\"Predicted Label: {prediction}\")\n",
        "\n",
        "# Predict the safe example\n",
        "prediction = predict_email_from_file(safe_example)\n",
        "print(f\"\\n--- Testing another new email ---\")\n",
        "print(f\"Email Text: '{safe_example}'\")\n",
        "print(f\"Predicted Label: {prediction}\")\n"
      ],
      "metadata": {
        "colab": {
          "base_uri": "https://localhost:8080/"
        },
        "id": "sjWB6sx3E8Tc",
        "outputId": "877cf511-1c64-422e-b2af-eff03b58f767"
      },
      "execution_count": 9,
      "outputs": [
        {
          "output_type": "stream",
          "name": "stdout",
          "text": [
            "Loading model and vectorizer...\n",
            "Loading complete.\n",
            "\n",
            "--- Testing a new email ---\n",
            "Email Text: 'Subject: Package Delivery Attempted – Action Required'\n",
            "Predicted Label: Safe Email\n",
            "\n",
            "--- Testing another new email ---\n",
            "Email Text: 'Subject: Your order has shipped! Hi John, we're happy to let you know that your order #12345 has shipped. You can track it here.'\n",
            "Predicted Label: Safe Email\n"
          ]
        }
      ]
    },
    {
      "cell_type": "markdown",
      "source": [
        "SUPPORT VECTOR. MACHINE"
      ],
      "metadata": {
        "id": "tqxVY4SxgXZD"
      }
    },
    {
      "cell_type": "code",
      "source": [
        "# 5. Train the Machine Learning Model (Using Linear SVC)\n",
        "from sklearn.svm import LinearSVC\n",
        "\n",
        "print(\"\\nTraining the Linear Support Vector Classifier (SVC)...\")\n",
        "\n",
        "# Initialize the LinearSVC model.\n",
        "# The 'C' parameter is a regularization parameter. A smaller C encourages a\n",
        "# simpler model, while a larger C tries to fit the training data as well as possible.\n",
        "# 'max_iter' is increased to ensure the model converges.\n",
        "model_svc = LinearSVC(C=1.0, random_state=42, max_iter=2000)\n",
        "\n",
        "# Train the model on the training data\n",
        "model_svc.fit(X_train, y_train)\n",
        "print(\"Model training complete.\")"
      ],
      "metadata": {
        "id": "Kx5-cKPmEszv",
        "colab": {
          "base_uri": "https://localhost:8080/"
        },
        "outputId": "3924aeda-f84f-45fd-b762-b0b538f75ad0"
      },
      "execution_count": 10,
      "outputs": [
        {
          "output_type": "stream",
          "name": "stdout",
          "text": [
            "\n",
            "Training the Linear Support Vector Classifier (SVC)...\n",
            "Model training complete.\n"
          ]
        }
      ]
    },
    {
      "cell_type": "code",
      "source": [
        "# 6. Evaluate the Model\n",
        "print(\"\\nEvaluating the Linear SVC model...\")\n",
        "# Make predictions on the test set\n",
        "y_pred_svc = model_svc.predict(X_test)\n",
        "\n",
        "# Calculate accuracy\n",
        "accuracy_svc = accuracy_score(y_test, y_pred_svc)\n",
        "print(f\"\\nLinear SVC Model Accuracy: {accuracy_svc:.4f}\")\n"
      ],
      "metadata": {
        "colab": {
          "base_uri": "https://localhost:8080/"
        },
        "id": "-hcXz-Ajgf3q",
        "outputId": "18e33e4d-4c32-4bef-fff5-cb79cf5dba03"
      },
      "execution_count": 11,
      "outputs": [
        {
          "output_type": "stream",
          "name": "stdout",
          "text": [
            "\n",
            "Evaluating the Linear SVC model...\n",
            "\n",
            "Linear SVC Model Accuracy: 0.9807\n"
          ]
        }
      ]
    },
    {
      "cell_type": "code",
      "source": [
        "\n",
        "# Display a detailed classification report\n",
        "print(\"\\nClassification Report (Linear SVC):\")\n",
        "print(classification_report(y_test, y_pred_svc))\n",
        "\n",
        "# Display a confusion matrix\n",
        "print(\"\\nConfusion Matrix (Linear SVC):\")\n",
        "cm_svc = confusion_matrix(y_test, y_pred_svc)\n",
        "plt.figure(figsize=(8, 6))\n",
        "sns.heatmap(cm_svc, annot=True, fmt='d', cmap='Greens',\n",
        "            xticklabels=['Phishing Email', 'Safe Email'],\n",
        "            yticklabels=['Phishing Email', 'Safe Email'])\n",
        "plt.xlabel('Predicted Label')\n",
        "plt.ylabel('True Label')\n",
        "plt.title('Confusion Matrix (Linear SVC)')\n",
        "plt.show()"
      ],
      "metadata": {
        "colab": {
          "base_uri": "https://localhost:8080/",
          "height": 803
        },
        "id": "_I2gy1wNgkVt",
        "outputId": "1864ea3d-922e-4252-df0a-841e896356fe"
      },
      "execution_count": 12,
      "outputs": [
        {
          "output_type": "stream",
          "name": "stdout",
          "text": [
            "\n",
            "Classification Report (Linear SVC):\n",
            "                precision    recall  f1-score   support\n",
            "\n",
            "Phishing Email       0.96      0.99      0.98      1462\n",
            "    Safe Email       0.99      0.97      0.98      2265\n",
            "\n",
            "      accuracy                           0.98      3727\n",
            "     macro avg       0.98      0.98      0.98      3727\n",
            "  weighted avg       0.98      0.98      0.98      3727\n",
            "\n",
            "\n",
            "Confusion Matrix (Linear SVC):\n"
          ]
        },
        {
          "output_type": "display_data",
          "data": {
            "text/plain": [
              "<Figure size 800x600 with 2 Axes>"
            ],
            "image/png": "[encoded data removed]"
          },
          "metadata": {}
        }
      ]
    },
    {
      "cell_type": "code",
      "source": [
        "# 8. Save the Model and Vectorizer to Disk\n",
        "import pickle\n",
        "\n",
        "print(\"\\nSaving the trained model and vectorizer to disk...\")\n",
        "\n",
        "# Define filenames for the model and vectorizer\n",
        "model_filename = 'phishing_detector_model_svc.pkl'\n",
        "vectorizer_filename = 'tfidf_vectorizer_svc.pkl'\n",
        "\n",
        "# Save the Linear SVC model\n",
        "with open(model_filename, 'wb') as model_file:\n",
        "    pickle.dump(model_svc, model_file)\n",
        "print(f\"Model saved successfully as '{model_filename}'\")\n",
        "\n",
        "# Save the TF-IDF vectorizer\n",
        "with open(vectorizer_filename, 'wb') as vectorizer_file:\n",
        "    pickle.dump(vectorizer, vectorizer_file)\n",
        "print(f\"Vectorizer saved successfully as '{vectorizer_filename}'\")\n",
        "\n"
      ],
      "metadata": {
        "colab": {
          "base_uri": "https://localhost:8080/"
        },
        "id": "hhTt-g9GglWa",
        "outputId": "204ba63a-2464-4095-89b4-b262e3743ad0"
      },
      "execution_count": 13,
      "outputs": [
        {
          "output_type": "stream",
          "name": "stdout",
          "text": [
            "\n",
            "Saving the trained model and vectorizer to disk...\n",
            "Model saved successfully as 'phishing_detector_model_svc.pkl'\n",
            "Vectorizer saved successfully as 'tfidf_vectorizer_svc.pkl'\n"
          ]
        }
      ]
    },
    {
      "cell_type": "code",
      "source": [
        "# 1. Load the saved model and vectorizer from disk\n",
        "print(\"Loading model and vectorizer...\")\n",
        "with open('phishing_detector_model_svc.pkl', 'rb') as model_file:\n",
        "    loaded_model = pickle.load(model_file)\n",
        "\n",
        "with open('tfidf_vectorizer_svc.pkl', 'rb') as vectorizer_file:\n",
        "    loaded_vectorizer = pickle.load(vectorizer_file)\n",
        "print(\"Loading complete.\")\n",
        "\n",
        "\n",
        "# 2. Define a function to make predictions\n",
        "def predict_email_from_file(email_text):\n",
        "    \"\"\"\n",
        "    Takes new email text, transforms it using the loaded vectorizer,\n",
        "    and predicts the class using the loaded model.\n",
        "    \"\"\"\n",
        "    # Transform the new email text using the loaded vectorizer\n",
        "    email_tfidf = loaded_vectorizer.transform([email_text])\n",
        "\n",
        "    # Predict the label using the loaded model\n",
        "    prediction = loaded_model.predict(email_tfidf)\n",
        "\n",
        "    # For models that support it, you can also get probabilities\n",
        "    # Note: LinearSVC with default settings doesn't directly output probabilities.\n",
        "    # To get them, you'd need to wrap it in CalibratedClassifierCV before training.\n",
        "    # For now, we'll just return the direct prediction.\n",
        "\n",
        "    return prediction[0]\n",
        "\n",
        "# 3. Test with new email examples\n",
        "phishing_example = \"Subject: Package Delivery Attempted – Action Required\"\n",
        "safe_example = \"Subject: Your order has shipped! Hi John, we're happy to let you know that your order #12345 has shipped. You can track it here.\"\n",
        "\n",
        "# Predict the phishing example\n",
        "prediction = predict_email_from_file(phishing_example)\n",
        "print(f\"\\n--- Testing a new email ---\")\n",
        "print(f\"Email Text: '{phishing_example}'\")\n",
        "print(f\"Predicted Label: {prediction}\")\n",
        "\n",
        "# Predict the safe example\n",
        "prediction = predict_email_from_file(safe_example)\n",
        "print(f\"\\n--- Testing another new email ---\")\n",
        "print(f\"Email Text: '{safe_example}'\")\n",
        "print(f\"Predicted Label: {prediction}\")\n"
      ],
      "metadata": {
        "colab": {
          "base_uri": "https://localhost:8080/"
        },
        "id": "s2t61u4ogxOU",
        "outputId": "0e4a3bfe-0f3c-447c-e4e0-b9a57ce7e6f7"
      },
      "execution_count": 15,
      "outputs": [
        {
          "output_type": "stream",
          "name": "stdout",
          "text": [
            "Loading model and vectorizer...\n",
            "Loading complete.\n",
            "\n",
            "--- Testing a new email ---\n",
            "Email Text: 'Subject: Package Delivery Attempted – Action Required'\n",
            "Predicted Label: Phishing Email\n",
            "\n",
            "--- Testing another new email ---\n",
            "Email Text: 'Subject: Your order has shipped! Hi John, we're happy to let you know that your order #12345 has shipped. You can track it here.'\n",
            "Predicted Label: Phishing Email\n"
          ]
        }
      ]
    },
    {
      "cell_type": "markdown",
      "source": [
        "**Adding more sophisticated features**"
      ],
      "metadata": {
        "id": "fHFKIKsbhkcO"
      }
    },
    {
      "cell_type": "markdown",
      "source": [
        "**Step 1:**  Engineering Advanced Text Features\n",
        "Relying only on word frequencies (TF-IDF) is powerful, but phishing emails often have other tell-tale signs that aren't just about the words they use. We can capture these signs by creating new, metadata-based features from the email text.\n",
        "Here are some highly effective features for phishing detection:\n",
        "1.   Text Length: Phishing emails are often unusually short or long.\n",
        "2.   Number of Digits: They frequently contain strings of numbers (e.g., \"Your account number 12345...\").\n",
        "3.  Number of Uppercase Characters: Excessive capitalization can create a false sense of urgency (\"URGENT ACTION REQUIRED\").\n",
        "4. Presence of \"Subject:\": While most emails have a subject, its absence or format can be a feature.\n",
        "5.  Number of \"Suspicious\" Words: We can create a list of common phishing keywords (e.g., \"urgent,\" \"verify,\" \"account,\" \"password,\" \"winner\") and count their occurrences.\n",
        "    \n",
        "\n",
        "    \n",
        "    \n",
        "    \n"
      ],
      "metadata": {
        "id": "mZkmMCv3hsS7"
      }
    },
    {
      "cell_type": "code",
      "source": [
        "# --- 2. Define Feature Engineering Functions ---\n",
        "print(\"Defining feature engineering functions...\")\n",
        "# Count suspicious keywords often found in phishing emails\n",
        "def count_suspicious_words(text):\n",
        "    suspicious_keywords = [\n",
        "        'urgent', 'verify', 'account', 'password', 'credit', 'card', 'winner',\n",
        "        'congratulations', 'claim', 'prize', 'suspend', 'confirm', 'login', 'bank'\n",
        "    ]\n",
        "    count = 0\n",
        "    for word in suspicious_keywords:\n",
        "        if word in text.lower():\n",
        "            count += 1\n",
        "    return count\n",
        "\n",
        "# --- 3. Apply Feature Engineering ---\n",
        "print(\"Applying feature engineering...\")\n",
        "df['text_length'] = df['text'].apply(len)\n",
        "df['digit_count'] = df['text'].apply(lambda s: sum(c.isdigit() for c in s))\n",
        "df['upper_count'] = df['text'].apply(lambda s: sum(c.isupper() for c in s))\n",
        "df['suspicious_word_count'] = df['text'].apply(count_suspicious_words)\n",
        "\n",
        "# --- 4. Define Preprocessing Pipeline ---\n",
        "print(\"Defining preprocessing pipeline...\")\n",
        "# Define the new numerical features we created\n",
        "numeric_features = ['text_length', 'digit_count', 'upper_count', 'suspicious_word_count']\n",
        "# Define the text feature\n",
        "text_feature = 'text'"
      ],
      "metadata": {
        "colab": {
          "base_uri": "https://localhost:8080/"
        },
        "id": "TePXjLOohRFT",
        "outputId": "24e25a2d-d70e-491d-e3d2-4ef94d558afa"
      },
      "execution_count": 16,
      "outputs": [
        {
          "output_type": "stream",
          "name": "stdout",
          "text": [
            "Defining feature engineering functions...\n",
            "Applying feature engineering...\n",
            "Defining preprocessing pipeline...\n"
          ]
        }
      ]
    },
    {
      "cell_type": "code",
      "source": [
        "# Create a preprocessor object using ColumnTransformer\n",
        "# This applies different transformations to different columns\n",
        "preprocessor = ColumnTransformer(\n",
        "    transformers=[\n",
        "        ('num', StandardScaler(), numeric_features), # Scale numeric features\n",
        "        ('tfidf', TfidfVectorizer(stop_words='english', max_df=0.7), text_feature) # Vectorize text\n",
        "    ],\n",
        "    remainder='drop' # Drop any other columns\n",
        ")\n",
        "\n",
        "# --- 5. Create and Train the Full Pipeline ---\n",
        "# A pipeline chains the preprocessor and the model together.\n",
        "# This makes it easy to manage the entire workflow.\n",
        "model_pipeline = Pipeline(steps=[\n",
        "    ('preprocessor', preprocessor),\n",
        "    ('classifier', LinearSVC(C=1.0, random_state=42, max_iter=2000))\n",
        "])\n",
        "\n",
        "# Separate features and target\n",
        "X = df.drop('label', axis=1)\n",
        "y = df['label']\n",
        "\n",
        "# Split data\n",
        "X_train, X_test, y_train, y_test = train_test_split(X, y, test_size=0.2, random_state=42, stratify=y)\n"
      ],
      "metadata": {
        "id": "cbwlYkTOiaAz"
      },
      "execution_count": 19,
      "outputs": []
    },
    {
      "cell_type": "code",
      "source": [
        "# Train the entire pipeline\n",
        "print(\"\\nTraining the model with advanced features...\")\n",
        "model_pipeline.fit(X_train, y_train)\n",
        "print(\"Training complete.\")\n",
        "\n",
        "# --- 6. Evaluate the New Model ---\n",
        "print(\"\\nEvaluating the enhanced model...\")\n",
        "y_pred = model_pipeline.predict(X_test)\n",
        "print(\"\\nClassification Report (Enhanced Model):\")\n",
        "print(classification_report(y_test, y_pred))\n",
        "\n",
        "# --- 7. Save the Final Pipeline ---\n",
        "# Now we only need to save ONE object: the entire pipeline.\n",
        "# It contains the feature engineering, preprocessing, and the trained model.\n",
        "pipeline_filename = 'phishing_detection_pipeline_feature_eng.pkl'\n",
        "print(f\"\\nSaving the complete pipeline to '{pipeline_filename}'...\")\n",
        "with open(pipeline_filename, 'wb') as f:\n",
        "    pickle.dump(model_pipeline, f)\n",
        "print(\"Pipeline saved successfully.\")"
      ],
      "metadata": {
        "colab": {
          "base_uri": "https://localhost:8080/"
        },
        "id": "qY29aq1VigeO",
        "outputId": "8e302410-8d36-477e-b01f-ccd869771733"
      },
      "execution_count": 20,
      "outputs": [
        {
          "output_type": "stream",
          "name": "stdout",
          "text": [
            "\n",
            "Training the model with advanced features...\n"
          ]
        },
        {
          "output_type": "stream",
          "name": "stderr",
          "text": [
            "/usr/local/lib/python3.12/dist-packages/sklearn/svm/_base.py:1249: ConvergenceWarning: Liblinear failed to converge, increase the number of iterations.\n",
            "  warnings.warn(\n"
          ]
        },
        {
          "output_type": "stream",
          "name": "stdout",
          "text": [
            "Training complete.\n",
            "\n",
            "Evaluating the enhanced model...\n",
            "\n",
            "Classification Report (Enhanced Model):\n",
            "                precision    recall  f1-score   support\n",
            "\n",
            "Phishing Email       0.96      0.99      0.98      1462\n",
            "    Safe Email       0.99      0.98      0.98      2265\n",
            "\n",
            "      accuracy                           0.98      3727\n",
            "     macro avg       0.98      0.98      0.98      3727\n",
            "  weighted avg       0.98      0.98      0.98      3727\n",
            "\n",
            "\n",
            "Saving the complete pipeline to 'phishing_detection_pipeline_feature_eng.pkl'...\n",
            "Pipeline saved successfully.\n"
          ]
        }
      ]
    },
    {
      "cell_type": "code",
      "source": [],
      "metadata": {
        "id": "szxbo2q9i2k9"
      },
      "execution_count": 21,
      "outputs": []
    },
    {
      "cell_type": "code",
      "source": [],
      "metadata": {
        "id": "c6XGvKtljM18"
      },
      "execution_count": null,
      "outputs": []
    }
  ]
}